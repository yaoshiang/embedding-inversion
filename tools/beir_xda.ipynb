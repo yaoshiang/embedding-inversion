{
 "cells": [
  {
   "cell_type": "code",
   "execution_count": 11,
   "metadata": {},
   "outputs": [
    {
     "name": "stdout",
     "output_type": "stream",
     "text": [
      "Dataset({\n",
      "    features: ['id', 'question', 'answer', 'type', 'level', 'supporting_facts', 'context'],\n",
      "    num_rows: 7405\n",
      "})\n",
      "['id', 'question', 'answer', 'type', 'level', 'supporting_facts', 'context']\n",
      "{'answer': 'yes',\n",
      " 'context': {'sentences': [['Ed Wood is a 1994 American biographical period '\n",
      "                            'comedy-drama film directed and produced by Tim '\n",
      "                            'Burton, and starring Johnny Depp as cult '\n",
      "                            'filmmaker Ed Wood.',\n",
      "                            \" The film concerns the period in Wood's life when \"\n",
      "                            'he made his best-known films as well as his '\n",
      "                            'relationship with actor Bela Lugosi, played by '\n",
      "                            'Martin Landau.',\n",
      "                            ' Sarah Jessica Parker, Patricia Arquette, Jeffrey '\n",
      "                            'Jones, Lisa Marie, and Bill Murray are among the '\n",
      "                            'supporting cast.'],\n",
      "                           ['Scott Derrickson (born July 16, 1966) is an '\n",
      "                            'American director, screenwriter and producer.',\n",
      "                            ' He lives in Los Angeles, California.',\n",
      "                            ' He is best known for directing horror films such '\n",
      "                            'as \"Sinister\", \"The Exorcism of Emily Rose\", and '\n",
      "                            '\"Deliver Us From Evil\", as well as the 2016 '\n",
      "                            'Marvel Cinematic Universe installment, \"Doctor '\n",
      "                            'Strange.\"'],\n",
      "                           ['Woodson is a census-designated place (CDP) in '\n",
      "                            'Pulaski County, Arkansas, in the United States.',\n",
      "                            ' Its population was 403 at the 2010 census.',\n",
      "                            ' It is part of the Little Rock–North Little '\n",
      "                            'Rock–Conway Metropolitan Statistical Area.',\n",
      "                            ' Woodson and its accompanying Woodson Lake and '\n",
      "                            'Wood Hollow are the namesake for Ed Wood Sr., a '\n",
      "                            'prominent plantation owner, trader, and '\n",
      "                            'businessman at the turn of the 20th century.',\n",
      "                            ' Woodson is adjacent to the Wood Plantation, the '\n",
      "                            'largest of the plantations own by Ed Wood Sr.'],\n",
      "                           ['Tyler Bates (born June 5, 1965) is an American '\n",
      "                            'musician, music producer, and composer for films, '\n",
      "                            'television, and video games.',\n",
      "                            ' Much of his work is in the action and horror '\n",
      "                            'film genres, with films like \"Dawn of the Dead, '\n",
      "                            '300, Sucker Punch,\" and \"John Wick.\"',\n",
      "                            ' He has collaborated with directors like Zack '\n",
      "                            'Snyder, Rob Zombie, Neil Marshall, William '\n",
      "                            'Friedkin, Scott Derrickson, and James Gunn.',\n",
      "                            ' With Gunn, he has scored every one of the '\n",
      "                            'director\\'s films; including \"Guardians of the '\n",
      "                            'Galaxy\", which became one of the highest grossing '\n",
      "                            'domestic movies of 2014, and its 2017 sequel.',\n",
      "                            ' In addition, he is also the lead guitarist of '\n",
      "                            'the American rock band Marilyn Manson, and '\n",
      "                            'produced its albums \"The Pale Emperor\" and '\n",
      "                            '\"Heaven Upside Down\".'],\n",
      "                           ['Edward Davis Wood Jr. (October 10, 1924 – '\n",
      "                            'December 10, 1978) was an American filmmaker, '\n",
      "                            'actor, writer, producer, and director.'],\n",
      "                           ['Deliver Us from Evil is a 2014 American '\n",
      "                            'supernatural horror film directed by Scott '\n",
      "                            'Derrickson and produced by Jerry Bruckheimer.',\n",
      "                            ' The film is officially based on a 2001 '\n",
      "                            'non-fiction book entitled \"Beware the Night\" by '\n",
      "                            'Ralph Sarchie and Lisa Collier Cool, and its '\n",
      "                            'marketing campaign highlighted that it was '\n",
      "                            '\"inspired by actual accounts\".',\n",
      "                            ' The film stars Eric Bana, Édgar Ramírez, Sean '\n",
      "                            'Harris, Olivia Munn, and Joel McHale in the main '\n",
      "                            'roles and was released on July 2, 2014.'],\n",
      "                           ['Adam Collis is an American filmmaker and actor.',\n",
      "                            ' He attended the Duke University from 1986 to '\n",
      "                            '1990 and the University of California, Los '\n",
      "                            'Angeles from 2007 to 2010.',\n",
      "                            ' He also studied cinema at the University of '\n",
      "                            'Southern California from 1991 to 1997.',\n",
      "                            ' Collis first work was the assistant director for '\n",
      "                            'the Scott Derrickson\\'s short \"Love in the Ruins\" '\n",
      "                            '(1995).',\n",
      "                            ' In 1998, he played \"Crankshaft\" in Eric '\n",
      "                            'Koyanagi\\'s \"Hundred Percent\".'],\n",
      "                           ['Sinister is a 2012 supernatural horror film '\n",
      "                            'directed by Scott Derrickson and written by '\n",
      "                            'Derrickson and C. Robert Cargill.',\n",
      "                            ' It stars Ethan Hawke as fictional true-crime '\n",
      "                            'writer Ellison Oswalt who discovers a box of home '\n",
      "                            'movies in his attic that puts his family in '\n",
      "                            'danger.'],\n",
      "                           ['Conrad Brooks (born Conrad Biedrzycki on January '\n",
      "                            '3, 1931 in Baltimore, Maryland) is an American '\n",
      "                            'actor.',\n",
      "                            ' He moved to Hollywood, California in 1948 to '\n",
      "                            'pursue a career in acting.',\n",
      "                            ' He got his start in movies appearing in Ed Wood '\n",
      "                            'films such as \"Plan 9 from Outer Space\", \"Glen or '\n",
      "                            'Glenda\", and \"Jail Bait.\"',\n",
      "                            ' He took a break from acting during the 1960s and '\n",
      "                            '1970s but due to the ongoing interest in the '\n",
      "                            'films of Ed Wood, he reemerged in the 1980s and '\n",
      "                            'has become a prolific actor.',\n",
      "                            ' He also has since gone on to write, produce and '\n",
      "                            'direct several films.'],\n",
      "                           ['Doctor Strange is a 2016 American superhero film '\n",
      "                            'based on the Marvel Comics character of the same '\n",
      "                            'name, produced by Marvel Studios and distributed '\n",
      "                            'by Walt Disney Studios Motion Pictures.',\n",
      "                            ' It is the fourteenth film of the Marvel '\n",
      "                            'Cinematic Universe (MCU).',\n",
      "                            ' The film was directed by Scott Derrickson, who '\n",
      "                            'wrote it with Jon Spaihts and C. Robert Cargill, '\n",
      "                            'and stars Benedict Cumberbatch as Stephen '\n",
      "                            'Strange, along with Chiwetel Ejiofor, Rachel '\n",
      "                            'McAdams, Benedict Wong, Michael Stuhlbarg, '\n",
      "                            'Benjamin Bratt, Scott Adkins, Mads Mikkelsen, and '\n",
      "                            'Tilda Swinton.',\n",
      "                            ' In \"Doctor Strange\", surgeon Strange learns the '\n",
      "                            'mystic arts after a career-ending car accident.']],\n",
      "             'title': ['Ed Wood (film)',\n",
      "                       'Scott Derrickson',\n",
      "                       'Woodson, Arkansas',\n",
      "                       'Tyler Bates',\n",
      "                       'Ed Wood',\n",
      "                       'Deliver Us from Evil (2014 film)',\n",
      "                       'Adam Collis',\n",
      "                       'Sinister (film)',\n",
      "                       'Conrad Brooks',\n",
      "                       'Doctor Strange (2016 film)']},\n",
      " 'id': '5a8b57f25542995d1e6f1371',\n",
      " 'level': 'hard',\n",
      " 'question': 'Were Scott Derrickson and Ed Wood of the same nationality?',\n",
      " 'supporting_facts': {'sent_id': [0, 0],\n",
      "                      'title': ['Scott Derrickson', 'Ed Wood']},\n",
      " 'type': 'comparison'}\n"
     ]
    }
   ],
   "source": [
    "import pprint\n",
    "import tqdm\n",
    "from datasets import load_dataset\n",
    "\n",
    "ds = load_dataset(\"hotpotqa/hotpot_qa\", name=\"distractor\", split=\"validation\")\n",
    "print(ds)\n",
    "print(ds.column_names)\n",
    "pprint.pprint(ds[0])"
   ]
  },
  {
   "cell_type": "code",
   "execution_count": 25,
   "metadata": {},
   "outputs": [
    {
     "name": "stdout",
     "output_type": "stream",
     "text": [
      "defaultdict(<function <lambda> at 0x3200b6020>,\n",
      "            {2: 21,\n",
      "             3: 7,\n",
      "             4: 9,\n",
      "             5: 6,\n",
      "             6: 8,\n",
      "             7: 2,\n",
      "             8: 4,\n",
      "             9: 3,\n",
      "             10: 7345})\n",
      "Ed Wood is a 1994 American biographical period comedy-drama film directed and produced by Tim Burton, and starring Johnny Depp as cult filmmaker Ed Wood.\n",
      " The film concerns the period in Wood's life when he made his best-known films as well as his relationship with actor Bela Lugosi, played by Martin Landau.\n",
      " Sarah Jessica Parker, Patricia Arquette, Jeffrey Jones, Lisa Marie, and Bill Murray are among the supporting cast.\n"
     ]
    }
   ],
   "source": [
    "\n",
    "from collections import defaultdict\n",
    "\n",
    "lengths = defaultdict(lambda: 0)\n",
    "\n",
    "for example in ds:\n",
    "    assert \"question\" in example\n",
    "    lengths[len(example[\"context\"][\"sentences\"])] += 1\n",
    "\n",
    "pprint.pprint(lengths)\n",
    "\n",
    "assert sum(lengths.values()) == 7405 # From the paper Table 1: https://arxiv.org/pdf/1809.09600\n",
    "\n",
    "print(\"\\n\".join(ds[0][\"context\"][\"sentences\"][0]))\n"
   ]
  },
  {
   "cell_type": "markdown",
   "metadata": {},
   "source": [
    "## BeIR subset\n",
    "\n",
    "Microsoft's E5 paper used six datasets within BeIR for more in depth evaluation. We considered using these six, and they do load well. However, further analysis resulted in excluding these as they do not match the RAG scenario we are most interested in. "
   ]
  },
  {
   "cell_type": "code",
   "execution_count": 47,
   "metadata": {},
   "outputs": [
    {
     "name": "stdout",
     "output_type": "stream",
     "text": [
      "DatasetDict({\n",
      "    corpus: Dataset({\n",
      "        features: ['_id', 'title', 'text'],\n",
      "        num_rows: 3633\n",
      "    })\n",
      "})\n"
     ]
    },
    {
     "name": "stderr",
     "output_type": "stream",
     "text": [
      "Downloading data: 100%|██████████| 1.46G/1.46G [01:12<00:00, 20.1MB/s]\n",
      "Generating corpus split: 100%|██████████| 2681468/2681468 [00:01<00:00, 2096549.57 examples/s]\n"
     ]
    },
    {
     "name": "stdout",
     "output_type": "stream",
     "text": [
      "DatasetDict({\n",
      "    corpus: Dataset({\n",
      "        features: ['_id', 'title', 'text'],\n",
      "        num_rows: 2681468\n",
      "    })\n",
      "})\n"
     ]
    },
    {
     "name": "stderr",
     "output_type": "stream",
     "text": [
      "Downloading data: 100%|██████████| 47.0M/47.0M [00:03<00:00, 15.6MB/s]\n",
      "Generating corpus split: 100%|██████████| 57638/57638 [00:00<00:00, 1101056.62 examples/s]\n"
     ]
    },
    {
     "name": "stdout",
     "output_type": "stream",
     "text": [
      "DatasetDict({\n",
      "    corpus: Dataset({\n",
      "        features: ['_id', 'title', 'text'],\n",
      "        num_rows: 57638\n",
      "    })\n",
      "})\n"
     ]
    },
    {
     "name": "stderr",
     "output_type": "stream",
     "text": [
      "Downloading data: 100%|██████████| 55.0M/55.0M [00:03<00:00, 17.8MB/s]\n",
      "Generating corpus split: 100%|██████████| 522931/522931 [00:00<00:00, 5985938.27 examples/s]\n"
     ]
    },
    {
     "name": "stdout",
     "output_type": "stream",
     "text": [
      "DatasetDict({\n",
      "    corpus: Dataset({\n",
      "        features: ['_id', 'title', 'text'],\n",
      "        num_rows: 522931\n",
      "    })\n",
      "})\n"
     ]
    },
    {
     "name": "stderr",
     "output_type": "stream",
     "text": [
      "Downloading data: 100%|██████████| 1.79G/1.79G [01:27<00:00, 20.4MB/s]\n",
      "Generating corpus split: 100%|██████████| 4635922/4635922 [00:01<00:00, 2896964.49 examples/s]\n"
     ]
    },
    {
     "name": "stdout",
     "output_type": "stream",
     "text": [
      "DatasetDict({\n",
      "    corpus: Dataset({\n",
      "        features: ['_id', 'title', 'text'],\n",
      "        num_rows: 4635922\n",
      "    })\n",
      "})\n"
     ]
    },
    {
     "name": "stderr",
     "output_type": "stream",
     "text": [
      "Downloading data: 100%|██████████| 8.02M/8.02M [00:00<00:00, 11.7MB/s]\n",
      "Generating corpus split: 100%|██████████| 5183/5183 [00:00<00:00, 468807.61 examples/s]"
     ]
    },
    {
     "name": "stdout",
     "output_type": "stream",
     "text": [
      "DatasetDict({\n",
      "    corpus: Dataset({\n",
      "        features: ['_id', 'title', 'text'],\n",
      "        num_rows: 5183\n",
      "    })\n",
      "})\n"
     ]
    },
    {
     "name": "stderr",
     "output_type": "stream",
     "text": [
      "\n"
     ]
    }
   ],
   "source": [
    "e5_datasets = [\"nfcorpus\",\"nq\",\"fiqa\",\"quora\",\"dbpedia\",\"scifact\"]\n",
    "\n",
    "from datasets import load_dataset\n",
    "\n",
    "for name in e5_datasets:\n",
    "    ds = load_dataset(path=f\"mteb/{name}\", name=\"corpus\")\n",
    "    print(ds)"
   ]
  },
  {
   "cell_type": "markdown",
   "metadata": {},
   "source": [
    "## BeIR and MTEB datasets are difficult to reproduce.\n",
    "\n",
    "### BeIR via HuggingFace\n",
    "There are the 19 datasets in BeIR. Four of them (commented out below) require manual steps including scraping Twitter. Attempting to load the first listed dataset, msmarco, triggers a ValueError. The ValueError message seems to indicate that only two (of 19) datasets are available.\n"
   ]
  },
  {
   "cell_type": "code",
   "execution_count": 29,
   "metadata": {},
   "outputs": [
    {
     "name": "stdout",
     "output_type": "stream",
     "text": [
      "datasets library version: 2.20.0\n",
      "BuilderConfig 'msmarco' not found. Available: ['fiqa', 'trec-covid', '']\n"
     ]
    }
   ],
   "source": [
    "beir_names = [\n",
    "    \"msmarco\",\n",
    "    \"trec-covid\",\n",
    "    \"nfcorpus\",\n",
    "    # \"bioasq\",\n",
    "    \"nq\",\n",
    "    \"hotpotqa\",\n",
    "    \"fiqa\",\n",
    "    # \"signal1m\",\n",
    "    # \"trec-news\",\n",
    "    \"arguana\",\n",
    "    \"webis-touche2020\",\n",
    "    \"cqadupstack\",\n",
    "    \"quora\",\n",
    "    \"dbpedia-entity\",\n",
    "    \"scidocs\",\n",
    "    \"fever\",\n",
    "    \"climate-fever\",\n",
    "    \"scifact\",\n",
    "    # \"robust04\",\n",
    "]\n",
    "\n",
    "import datasets\n",
    "print(f\"datasets library version: {datasets.__version__}\")\n",
    "\n",
    "from datasets import load_dataset\n",
    "\n",
    "try:\n",
    "    builder = load_dataset(\"BeIR/beir\", name=\"msmarco\")\n",
    "except ValueError as e:\n",
    "    print(e)"
   ]
  },
  {
   "cell_type": "markdown",
   "metadata": {},
   "source": [
    "### BeIR via the researcher's website is also difficult.\n",
    "\n",
    "Trying to run their script results in timeouts. "
   ]
  },
  {
   "cell_type": "code",
   "execution_count": 30,
   "metadata": {},
   "outputs": [
    {
     "name": "stderr",
     "output_type": "stream",
     "text": [
      "datasets/msmarco.zip:   3%|▎         | 30.6M/1.01G [00:04<02:19, 7.54MiB/s] \n"
     ]
    },
    {
     "ename": "KeyboardInterrupt",
     "evalue": "",
     "output_type": "error",
     "traceback": [
      "\u001b[0;31m---------------------------------------------------------------------------\u001b[0m",
      "\u001b[0;31mKeyboardInterrupt\u001b[0m                         Traceback (most recent call last)",
      "Cell \u001b[0;32mIn[30], line 6\u001b[0m\n\u001b[1;32m      4\u001b[0m \u001b[38;5;28;01mfor\u001b[39;00m name \u001b[38;5;129;01min\u001b[39;00m beir_names:\n\u001b[1;32m      5\u001b[0m     url \u001b[38;5;241m=\u001b[39m \u001b[38;5;124m\"\u001b[39m\u001b[38;5;124mhttps://public.ukp.informatik.tu-darmstadt.de/thakur/BEIR/datasets/\u001b[39m\u001b[38;5;132;01m{}\u001b[39;00m\u001b[38;5;124m.zip\u001b[39m\u001b[38;5;124m\"\u001b[39m\u001b[38;5;241m.\u001b[39mformat(name)\n\u001b[0;32m----> 6\u001b[0m     data_path \u001b[38;5;241m=\u001b[39m \u001b[43mutil\u001b[49m\u001b[38;5;241;43m.\u001b[39;49m\u001b[43mdownload_and_unzip\u001b[49m\u001b[43m(\u001b[49m\u001b[43murl\u001b[49m\u001b[43m,\u001b[49m\u001b[43m \u001b[49m\u001b[38;5;124;43m\"\u001b[39;49m\u001b[38;5;124;43mdatasets\u001b[39;49m\u001b[38;5;124;43m\"\u001b[39;49m\u001b[43m)\u001b[49m\n\u001b[1;32m      7\u001b[0m     corpus, queries, qrels \u001b[38;5;241m=\u001b[39m GenericDataLoader(data_folder\u001b[38;5;241m=\u001b[39mdata_path)\u001b[38;5;241m.\u001b[39mload(split\u001b[38;5;241m=\u001b[39m\u001b[38;5;124m\"\u001b[39m\u001b[38;5;124mtest\u001b[39m\u001b[38;5;124m\"\u001b[39m)\n\u001b[1;32m      8\u001b[0m     \u001b[38;5;28mprint\u001b[39m(name, \u001b[38;5;28mlen\u001b[39m(corpus), \u001b[38;5;28mlen\u001b[39m(queries), \u001b[38;5;28mlen\u001b[39m(qrels))\n",
      "File \u001b[0;32m~/miniconda3/envs/p311/lib/python3.11/site-packages/beir/util.py:88\u001b[0m, in \u001b[0;36mdownload_and_unzip\u001b[0;34m(url, out_dir, chunk_size)\u001b[0m\n\u001b[1;32m     86\u001b[0m \u001b[38;5;28;01mif\u001b[39;00m \u001b[38;5;129;01mnot\u001b[39;00m os\u001b[38;5;241m.\u001b[39mpath\u001b[38;5;241m.\u001b[39misfile(zip_file):\n\u001b[1;32m     87\u001b[0m     logger\u001b[38;5;241m.\u001b[39minfo(\u001b[38;5;124m\"\u001b[39m\u001b[38;5;124mDownloading \u001b[39m\u001b[38;5;132;01m{}\u001b[39;00m\u001b[38;5;124m ...\u001b[39m\u001b[38;5;124m\"\u001b[39m\u001b[38;5;241m.\u001b[39mformat(dataset))\n\u001b[0;32m---> 88\u001b[0m     \u001b[43mdownload_url\u001b[49m\u001b[43m(\u001b[49m\u001b[43murl\u001b[49m\u001b[43m,\u001b[49m\u001b[43m \u001b[49m\u001b[43mzip_file\u001b[49m\u001b[43m,\u001b[49m\u001b[43m \u001b[49m\u001b[43mchunk_size\u001b[49m\u001b[43m)\u001b[49m\n\u001b[1;32m     90\u001b[0m \u001b[38;5;28;01mif\u001b[39;00m \u001b[38;5;129;01mnot\u001b[39;00m os\u001b[38;5;241m.\u001b[39mpath\u001b[38;5;241m.\u001b[39misdir(zip_file\u001b[38;5;241m.\u001b[39mreplace(\u001b[38;5;124m\"\u001b[39m\u001b[38;5;124m.zip\u001b[39m\u001b[38;5;124m\"\u001b[39m, \u001b[38;5;124m\"\u001b[39m\u001b[38;5;124m\"\u001b[39m)):\n\u001b[1;32m     91\u001b[0m     logger\u001b[38;5;241m.\u001b[39minfo(\u001b[38;5;124m\"\u001b[39m\u001b[38;5;124mUnzipping \u001b[39m\u001b[38;5;132;01m{}\u001b[39;00m\u001b[38;5;124m ...\u001b[39m\u001b[38;5;124m\"\u001b[39m\u001b[38;5;241m.\u001b[39mformat(dataset))\n",
      "File \u001b[0;32m~/miniconda3/envs/p311/lib/python3.11/site-packages/beir/util.py:71\u001b[0m, in \u001b[0;36mdownload_url\u001b[0;34m(url, save_path, chunk_size)\u001b[0m\n\u001b[1;32m     63\u001b[0m total \u001b[38;5;241m=\u001b[39m \u001b[38;5;28mint\u001b[39m(r\u001b[38;5;241m.\u001b[39mheaders\u001b[38;5;241m.\u001b[39mget(\u001b[38;5;124m'\u001b[39m\u001b[38;5;124mContent-Length\u001b[39m\u001b[38;5;124m'\u001b[39m, \u001b[38;5;241m0\u001b[39m))\n\u001b[1;32m     64\u001b[0m \u001b[38;5;28;01mwith\u001b[39;00m \u001b[38;5;28mopen\u001b[39m(save_path, \u001b[38;5;124m'\u001b[39m\u001b[38;5;124mwb\u001b[39m\u001b[38;5;124m'\u001b[39m) \u001b[38;5;28;01mas\u001b[39;00m fd, tqdm(\n\u001b[1;32m     65\u001b[0m     desc\u001b[38;5;241m=\u001b[39msave_path,\n\u001b[1;32m     66\u001b[0m     total\u001b[38;5;241m=\u001b[39mtotal,\n\u001b[0;32m   (...)\u001b[0m\n\u001b[1;32m     69\u001b[0m     unit_divisor\u001b[38;5;241m=\u001b[39mchunk_size,\n\u001b[1;32m     70\u001b[0m ) \u001b[38;5;28;01mas\u001b[39;00m bar:\n\u001b[0;32m---> 71\u001b[0m \u001b[43m    \u001b[49m\u001b[38;5;28;43;01mfor\u001b[39;49;00m\u001b[43m \u001b[49m\u001b[43mdata\u001b[49m\u001b[43m \u001b[49m\u001b[38;5;129;43;01min\u001b[39;49;00m\u001b[43m \u001b[49m\u001b[43mr\u001b[49m\u001b[38;5;241;43m.\u001b[39;49m\u001b[43miter_content\u001b[49m\u001b[43m(\u001b[49m\u001b[43mchunk_size\u001b[49m\u001b[38;5;241;43m=\u001b[39;49m\u001b[43mchunk_size\u001b[49m\u001b[43m)\u001b[49m\u001b[43m:\u001b[49m\n\u001b[1;32m     72\u001b[0m \u001b[43m        \u001b[49m\u001b[43msize\u001b[49m\u001b[43m \u001b[49m\u001b[38;5;241;43m=\u001b[39;49m\u001b[43m \u001b[49m\u001b[43mfd\u001b[49m\u001b[38;5;241;43m.\u001b[39;49m\u001b[43mwrite\u001b[49m\u001b[43m(\u001b[49m\u001b[43mdata\u001b[49m\u001b[43m)\u001b[49m\n\u001b[1;32m     73\u001b[0m \u001b[43m        \u001b[49m\u001b[43mbar\u001b[49m\u001b[38;5;241;43m.\u001b[39;49m\u001b[43mupdate\u001b[49m\u001b[43m(\u001b[49m\u001b[43msize\u001b[49m\u001b[43m)\u001b[49m\n",
      "File \u001b[0;32m~/miniconda3/envs/p311/lib/python3.11/site-packages/requests/models.py:820\u001b[0m, in \u001b[0;36mResponse.iter_content.<locals>.generate\u001b[0;34m()\u001b[0m\n\u001b[1;32m    818\u001b[0m \u001b[38;5;28;01mif\u001b[39;00m \u001b[38;5;28mhasattr\u001b[39m(\u001b[38;5;28mself\u001b[39m\u001b[38;5;241m.\u001b[39mraw, \u001b[38;5;124m\"\u001b[39m\u001b[38;5;124mstream\u001b[39m\u001b[38;5;124m\"\u001b[39m):\n\u001b[1;32m    819\u001b[0m     \u001b[38;5;28;01mtry\u001b[39;00m:\n\u001b[0;32m--> 820\u001b[0m         \u001b[38;5;28;01myield from\u001b[39;00m \u001b[38;5;28mself\u001b[39m\u001b[38;5;241m.\u001b[39mraw\u001b[38;5;241m.\u001b[39mstream(chunk_size, decode_content\u001b[38;5;241m=\u001b[39m\u001b[38;5;28;01mTrue\u001b[39;00m)\n\u001b[1;32m    821\u001b[0m     \u001b[38;5;28;01mexcept\u001b[39;00m ProtocolError \u001b[38;5;28;01mas\u001b[39;00m e:\n\u001b[1;32m    822\u001b[0m         \u001b[38;5;28;01mraise\u001b[39;00m ChunkedEncodingError(e)\n",
      "File \u001b[0;32m~/miniconda3/envs/p311/lib/python3.11/site-packages/urllib3/response.py:1033\u001b[0m, in \u001b[0;36mHTTPResponse.stream\u001b[0;34m(self, amt, decode_content)\u001b[0m\n\u001b[1;32m   1031\u001b[0m \u001b[38;5;28;01melse\u001b[39;00m:\n\u001b[1;32m   1032\u001b[0m     \u001b[38;5;28;01mwhile\u001b[39;00m \u001b[38;5;129;01mnot\u001b[39;00m is_fp_closed(\u001b[38;5;28mself\u001b[39m\u001b[38;5;241m.\u001b[39m_fp) \u001b[38;5;129;01mor\u001b[39;00m \u001b[38;5;28mlen\u001b[39m(\u001b[38;5;28mself\u001b[39m\u001b[38;5;241m.\u001b[39m_decoded_buffer) \u001b[38;5;241m>\u001b[39m \u001b[38;5;241m0\u001b[39m:\n\u001b[0;32m-> 1033\u001b[0m         data \u001b[38;5;241m=\u001b[39m \u001b[38;5;28;43mself\u001b[39;49m\u001b[38;5;241;43m.\u001b[39;49m\u001b[43mread\u001b[49m\u001b[43m(\u001b[49m\u001b[43mamt\u001b[49m\u001b[38;5;241;43m=\u001b[39;49m\u001b[43mamt\u001b[49m\u001b[43m,\u001b[49m\u001b[43m \u001b[49m\u001b[43mdecode_content\u001b[49m\u001b[38;5;241;43m=\u001b[39;49m\u001b[43mdecode_content\u001b[49m\u001b[43m)\u001b[49m\n\u001b[1;32m   1035\u001b[0m         \u001b[38;5;28;01mif\u001b[39;00m data:\n\u001b[1;32m   1036\u001b[0m             \u001b[38;5;28;01myield\u001b[39;00m data\n",
      "File \u001b[0;32m~/miniconda3/envs/p311/lib/python3.11/site-packages/urllib3/response.py:925\u001b[0m, in \u001b[0;36mHTTPResponse.read\u001b[0;34m(self, amt, decode_content, cache_content)\u001b[0m\n\u001b[1;32m    922\u001b[0m     \u001b[38;5;28;01mif\u001b[39;00m \u001b[38;5;28mlen\u001b[39m(\u001b[38;5;28mself\u001b[39m\u001b[38;5;241m.\u001b[39m_decoded_buffer) \u001b[38;5;241m>\u001b[39m\u001b[38;5;241m=\u001b[39m amt:\n\u001b[1;32m    923\u001b[0m         \u001b[38;5;28;01mreturn\u001b[39;00m \u001b[38;5;28mself\u001b[39m\u001b[38;5;241m.\u001b[39m_decoded_buffer\u001b[38;5;241m.\u001b[39mget(amt)\n\u001b[0;32m--> 925\u001b[0m data \u001b[38;5;241m=\u001b[39m \u001b[38;5;28;43mself\u001b[39;49m\u001b[38;5;241;43m.\u001b[39;49m\u001b[43m_raw_read\u001b[49m\u001b[43m(\u001b[49m\u001b[43mamt\u001b[49m\u001b[43m)\u001b[49m\n\u001b[1;32m    927\u001b[0m flush_decoder \u001b[38;5;241m=\u001b[39m amt \u001b[38;5;129;01mis\u001b[39;00m \u001b[38;5;28;01mNone\u001b[39;00m \u001b[38;5;129;01mor\u001b[39;00m (amt \u001b[38;5;241m!=\u001b[39m \u001b[38;5;241m0\u001b[39m \u001b[38;5;129;01mand\u001b[39;00m \u001b[38;5;129;01mnot\u001b[39;00m data)\n\u001b[1;32m    929\u001b[0m \u001b[38;5;28;01mif\u001b[39;00m \u001b[38;5;129;01mnot\u001b[39;00m data \u001b[38;5;129;01mand\u001b[39;00m \u001b[38;5;28mlen\u001b[39m(\u001b[38;5;28mself\u001b[39m\u001b[38;5;241m.\u001b[39m_decoded_buffer) \u001b[38;5;241m==\u001b[39m \u001b[38;5;241m0\u001b[39m:\n",
      "File \u001b[0;32m~/miniconda3/envs/p311/lib/python3.11/site-packages/urllib3/response.py:852\u001b[0m, in \u001b[0;36mHTTPResponse._raw_read\u001b[0;34m(self, amt, read1)\u001b[0m\n\u001b[1;32m    849\u001b[0m fp_closed \u001b[38;5;241m=\u001b[39m \u001b[38;5;28mgetattr\u001b[39m(\u001b[38;5;28mself\u001b[39m\u001b[38;5;241m.\u001b[39m_fp, \u001b[38;5;124m\"\u001b[39m\u001b[38;5;124mclosed\u001b[39m\u001b[38;5;124m\"\u001b[39m, \u001b[38;5;28;01mFalse\u001b[39;00m)\n\u001b[1;32m    851\u001b[0m \u001b[38;5;28;01mwith\u001b[39;00m \u001b[38;5;28mself\u001b[39m\u001b[38;5;241m.\u001b[39m_error_catcher():\n\u001b[0;32m--> 852\u001b[0m     data \u001b[38;5;241m=\u001b[39m \u001b[38;5;28;43mself\u001b[39;49m\u001b[38;5;241;43m.\u001b[39;49m\u001b[43m_fp_read\u001b[49m\u001b[43m(\u001b[49m\u001b[43mamt\u001b[49m\u001b[43m,\u001b[49m\u001b[43m \u001b[49m\u001b[43mread1\u001b[49m\u001b[38;5;241;43m=\u001b[39;49m\u001b[43mread1\u001b[49m\u001b[43m)\u001b[49m \u001b[38;5;28;01mif\u001b[39;00m \u001b[38;5;129;01mnot\u001b[39;00m fp_closed \u001b[38;5;28;01melse\u001b[39;00m \u001b[38;5;124mb\u001b[39m\u001b[38;5;124m\"\u001b[39m\u001b[38;5;124m\"\u001b[39m\n\u001b[1;32m    853\u001b[0m     \u001b[38;5;28;01mif\u001b[39;00m amt \u001b[38;5;129;01mis\u001b[39;00m \u001b[38;5;129;01mnot\u001b[39;00m \u001b[38;5;28;01mNone\u001b[39;00m \u001b[38;5;129;01mand\u001b[39;00m amt \u001b[38;5;241m!=\u001b[39m \u001b[38;5;241m0\u001b[39m \u001b[38;5;129;01mand\u001b[39;00m \u001b[38;5;129;01mnot\u001b[39;00m data:\n\u001b[1;32m    854\u001b[0m         \u001b[38;5;66;03m# Platform-specific: Buggy versions of Python.\u001b[39;00m\n\u001b[1;32m    855\u001b[0m         \u001b[38;5;66;03m# Close the connection when no data is returned\u001b[39;00m\n\u001b[0;32m   (...)\u001b[0m\n\u001b[1;32m    860\u001b[0m         \u001b[38;5;66;03m# not properly close the connection in all cases. There is\u001b[39;00m\n\u001b[1;32m    861\u001b[0m         \u001b[38;5;66;03m# no harm in redundantly calling close.\u001b[39;00m\n\u001b[1;32m    862\u001b[0m         \u001b[38;5;28mself\u001b[39m\u001b[38;5;241m.\u001b[39m_fp\u001b[38;5;241m.\u001b[39mclose()\n",
      "File \u001b[0;32m~/miniconda3/envs/p311/lib/python3.11/site-packages/urllib3/response.py:835\u001b[0m, in \u001b[0;36mHTTPResponse._fp_read\u001b[0;34m(self, amt, read1)\u001b[0m\n\u001b[1;32m    832\u001b[0m     \u001b[38;5;28;01mreturn\u001b[39;00m \u001b[38;5;28mself\u001b[39m\u001b[38;5;241m.\u001b[39m_fp\u001b[38;5;241m.\u001b[39mread1(amt) \u001b[38;5;28;01mif\u001b[39;00m amt \u001b[38;5;129;01mis\u001b[39;00m \u001b[38;5;129;01mnot\u001b[39;00m \u001b[38;5;28;01mNone\u001b[39;00m \u001b[38;5;28;01melse\u001b[39;00m \u001b[38;5;28mself\u001b[39m\u001b[38;5;241m.\u001b[39m_fp\u001b[38;5;241m.\u001b[39mread1()\n\u001b[1;32m    833\u001b[0m \u001b[38;5;28;01melse\u001b[39;00m:\n\u001b[1;32m    834\u001b[0m     \u001b[38;5;66;03m# StringIO doesn't like amt=None\u001b[39;00m\n\u001b[0;32m--> 835\u001b[0m     \u001b[38;5;28;01mreturn\u001b[39;00m \u001b[38;5;28;43mself\u001b[39;49m\u001b[38;5;241;43m.\u001b[39;49m\u001b[43m_fp\u001b[49m\u001b[38;5;241;43m.\u001b[39;49m\u001b[43mread\u001b[49m\u001b[43m(\u001b[49m\u001b[43mamt\u001b[49m\u001b[43m)\u001b[49m \u001b[38;5;28;01mif\u001b[39;00m amt \u001b[38;5;129;01mis\u001b[39;00m \u001b[38;5;129;01mnot\u001b[39;00m \u001b[38;5;28;01mNone\u001b[39;00m \u001b[38;5;28;01melse\u001b[39;00m \u001b[38;5;28mself\u001b[39m\u001b[38;5;241m.\u001b[39m_fp\u001b[38;5;241m.\u001b[39mread()\n",
      "File \u001b[0;32m~/miniconda3/envs/p311/lib/python3.11/http/client.py:466\u001b[0m, in \u001b[0;36mHTTPResponse.read\u001b[0;34m(self, amt)\u001b[0m\n\u001b[1;32m    463\u001b[0m \u001b[38;5;28;01mif\u001b[39;00m \u001b[38;5;28mself\u001b[39m\u001b[38;5;241m.\u001b[39mlength \u001b[38;5;129;01mis\u001b[39;00m \u001b[38;5;129;01mnot\u001b[39;00m \u001b[38;5;28;01mNone\u001b[39;00m \u001b[38;5;129;01mand\u001b[39;00m amt \u001b[38;5;241m>\u001b[39m \u001b[38;5;28mself\u001b[39m\u001b[38;5;241m.\u001b[39mlength:\n\u001b[1;32m    464\u001b[0m     \u001b[38;5;66;03m# clip the read to the \"end of response\"\u001b[39;00m\n\u001b[1;32m    465\u001b[0m     amt \u001b[38;5;241m=\u001b[39m \u001b[38;5;28mself\u001b[39m\u001b[38;5;241m.\u001b[39mlength\n\u001b[0;32m--> 466\u001b[0m s \u001b[38;5;241m=\u001b[39m \u001b[38;5;28mself\u001b[39m\u001b[38;5;241m.\u001b[39mfp\u001b[38;5;241m.\u001b[39mread(amt)\n\u001b[1;32m    467\u001b[0m \u001b[38;5;28;01mif\u001b[39;00m \u001b[38;5;129;01mnot\u001b[39;00m s \u001b[38;5;129;01mand\u001b[39;00m amt:\n\u001b[1;32m    468\u001b[0m     \u001b[38;5;66;03m# Ideally, we would raise IncompleteRead if the content-length\u001b[39;00m\n\u001b[1;32m    469\u001b[0m     \u001b[38;5;66;03m# wasn't satisfied, but it might break compatibility.\u001b[39;00m\n\u001b[1;32m    470\u001b[0m     \u001b[38;5;28mself\u001b[39m\u001b[38;5;241m.\u001b[39m_close_conn()\n",
      "File \u001b[0;32m~/miniconda3/envs/p311/lib/python3.11/socket.py:706\u001b[0m, in \u001b[0;36mSocketIO.readinto\u001b[0;34m(self, b)\u001b[0m\n\u001b[1;32m    704\u001b[0m \u001b[38;5;28;01mwhile\u001b[39;00m \u001b[38;5;28;01mTrue\u001b[39;00m:\n\u001b[1;32m    705\u001b[0m     \u001b[38;5;28;01mtry\u001b[39;00m:\n\u001b[0;32m--> 706\u001b[0m         \u001b[38;5;28;01mreturn\u001b[39;00m \u001b[38;5;28;43mself\u001b[39;49m\u001b[38;5;241;43m.\u001b[39;49m\u001b[43m_sock\u001b[49m\u001b[38;5;241;43m.\u001b[39;49m\u001b[43mrecv_into\u001b[49m\u001b[43m(\u001b[49m\u001b[43mb\u001b[49m\u001b[43m)\u001b[49m\n\u001b[1;32m    707\u001b[0m     \u001b[38;5;28;01mexcept\u001b[39;00m timeout:\n\u001b[1;32m    708\u001b[0m         \u001b[38;5;28mself\u001b[39m\u001b[38;5;241m.\u001b[39m_timeout_occurred \u001b[38;5;241m=\u001b[39m \u001b[38;5;28;01mTrue\u001b[39;00m\n",
      "File \u001b[0;32m~/miniconda3/envs/p311/lib/python3.11/ssl.py:1311\u001b[0m, in \u001b[0;36mSSLSocket.recv_into\u001b[0;34m(self, buffer, nbytes, flags)\u001b[0m\n\u001b[1;32m   1307\u001b[0m     \u001b[38;5;28;01mif\u001b[39;00m flags \u001b[38;5;241m!=\u001b[39m \u001b[38;5;241m0\u001b[39m:\n\u001b[1;32m   1308\u001b[0m         \u001b[38;5;28;01mraise\u001b[39;00m \u001b[38;5;167;01mValueError\u001b[39;00m(\n\u001b[1;32m   1309\u001b[0m           \u001b[38;5;124m\"\u001b[39m\u001b[38;5;124mnon-zero flags not allowed in calls to recv_into() on \u001b[39m\u001b[38;5;132;01m%s\u001b[39;00m\u001b[38;5;124m\"\u001b[39m \u001b[38;5;241m%\u001b[39m\n\u001b[1;32m   1310\u001b[0m           \u001b[38;5;28mself\u001b[39m\u001b[38;5;241m.\u001b[39m\u001b[38;5;18m__class__\u001b[39m)\n\u001b[0;32m-> 1311\u001b[0m     \u001b[38;5;28;01mreturn\u001b[39;00m \u001b[38;5;28;43mself\u001b[39;49m\u001b[38;5;241;43m.\u001b[39;49m\u001b[43mread\u001b[49m\u001b[43m(\u001b[49m\u001b[43mnbytes\u001b[49m\u001b[43m,\u001b[49m\u001b[43m \u001b[49m\u001b[43mbuffer\u001b[49m\u001b[43m)\u001b[49m\n\u001b[1;32m   1312\u001b[0m \u001b[38;5;28;01melse\u001b[39;00m:\n\u001b[1;32m   1313\u001b[0m     \u001b[38;5;28;01mreturn\u001b[39;00m \u001b[38;5;28msuper\u001b[39m()\u001b[38;5;241m.\u001b[39mrecv_into(buffer, nbytes, flags)\n",
      "File \u001b[0;32m~/miniconda3/envs/p311/lib/python3.11/ssl.py:1167\u001b[0m, in \u001b[0;36mSSLSocket.read\u001b[0;34m(self, len, buffer)\u001b[0m\n\u001b[1;32m   1165\u001b[0m \u001b[38;5;28;01mtry\u001b[39;00m:\n\u001b[1;32m   1166\u001b[0m     \u001b[38;5;28;01mif\u001b[39;00m buffer \u001b[38;5;129;01mis\u001b[39;00m \u001b[38;5;129;01mnot\u001b[39;00m \u001b[38;5;28;01mNone\u001b[39;00m:\n\u001b[0;32m-> 1167\u001b[0m         \u001b[38;5;28;01mreturn\u001b[39;00m \u001b[38;5;28;43mself\u001b[39;49m\u001b[38;5;241;43m.\u001b[39;49m\u001b[43m_sslobj\u001b[49m\u001b[38;5;241;43m.\u001b[39;49m\u001b[43mread\u001b[49m\u001b[43m(\u001b[49m\u001b[38;5;28;43mlen\u001b[39;49m\u001b[43m,\u001b[49m\u001b[43m \u001b[49m\u001b[43mbuffer\u001b[49m\u001b[43m)\u001b[49m\n\u001b[1;32m   1168\u001b[0m     \u001b[38;5;28;01melse\u001b[39;00m:\n\u001b[1;32m   1169\u001b[0m         \u001b[38;5;28;01mreturn\u001b[39;00m \u001b[38;5;28mself\u001b[39m\u001b[38;5;241m.\u001b[39m_sslobj\u001b[38;5;241m.\u001b[39mread(\u001b[38;5;28mlen\u001b[39m)\n",
      "\u001b[0;31mKeyboardInterrupt\u001b[0m: "
     ]
    }
   ],
   "source": [
    "from beir import util\n",
    "from beir.datasets.data_loader import GenericDataLoader\n",
    "\n",
    "for name in beir_names:\n",
    "    url = \"https://public.ukp.informatik.tu-darmstadt.de/thakur/BEIR/datasets/{}.zip\".format(name)\n",
    "    data_path = util.download_and_unzip(url, \"datasets\")\n",
    "    corpus, queries, qrels = GenericDataLoader(data_folder=data_path).load(split=\"test\")\n",
    "    print(name, len(corpus), len(queries), len(qrels))"
   ]
  },
  {
   "cell_type": "code",
   "execution_count": null,
   "metadata": {},
   "outputs": [],
   "source": []
  }
 ],
 "metadata": {
  "kernelspec": {
   "display_name": "p311",
   "language": "python",
   "name": "python3"
  },
  "language_info": {
   "codemirror_mode": {
    "name": "ipython",
    "version": 3
   },
   "file_extension": ".py",
   "mimetype": "text/x-python",
   "name": "python",
   "nbconvert_exporter": "python",
   "pygments_lexer": "ipython3",
   "version": "3.11.5"
  }
 },
 "nbformat": 4,
 "nbformat_minor": 2
}
